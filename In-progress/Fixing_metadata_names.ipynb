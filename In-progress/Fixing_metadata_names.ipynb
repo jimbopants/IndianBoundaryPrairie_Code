{
 "cells": [
  {
   "cell_type": "code",
   "execution_count": 1,
   "metadata": {},
   "outputs": [],
   "source": [
    "import pandas as pd"
   ]
  },
  {
   "cell_type": "markdown",
   "metadata": {},
   "source": [
    "### F**k spaces, yo"
   ]
  },
  {
   "cell_type": "code",
   "execution_count": 12,
   "metadata": {},
   "outputs": [],
   "source": [
    "\n",
    "metadata = pd.read_csv('../Seq_data/Updated_files/env_data_ordered_like_biom.txt', sep = '\\t')\n",
    "metadata['Soil_type_and_color'] = metadata['Soil_type_and_color'].str.replace(' ', '_')\n",
    "metadata['USDA_soil_series'] = metadata['USDA_soil_series'].str.replace(' ', '_')\n",
    "metadata.to_csv('../Metadata/ibp_metadata_10.22.18.txt', sep = '\\t')"
   ]
  },
  {
   "cell_type": "code",
   "execution_count": 14,
   "metadata": {},
   "outputs": [
    {
     "data": {
      "text/plain": [
       "0                     Selma_loam_\n",
       "1                     Selma_loam_\n",
       "2                     Selma_loam_\n",
       "3                     Selma_loam_\n",
       "4                     Selma_loam_\n",
       "5                     Selma_loam_\n",
       "6                     Selma_loam_\n",
       "7                     Selma_loam_\n",
       "8                     Selma_loam_\n",
       "9                     Selma_loam_\n",
       "10                    Selma_loam_\n",
       "11                    Selma_loam_\n",
       "12                    Selma_loam_\n",
       "13                    Selma_loam_\n",
       "14                    Selma_loam_\n",
       "15                    Selma_loam_\n",
       "16                    Selma_loam_\n",
       "17                    Selma_loam_\n",
       "18                    Selma_loam_\n",
       "19     Hoopeston_fine_sandy_loam_\n",
       "20     Hoopeston_fine_sandy_loam_\n",
       "21     Hoopeston_fine_sandy_loam_\n",
       "22     Hoopeston_fine_sandy_loam_\n",
       "23     Hoopeston_fine_sandy_loam_\n",
       "24     Hoopeston_fine_sandy_loam_\n",
       "25     Hoopeston_fine_sandy_loam_\n",
       "26     Hoopeston_fine_sandy_loam_\n",
       "27     Hoopeston_fine_sandy_loam_\n",
       "28     Hoopeston_fine_sandy_loam_\n",
       "29     Hoopeston_fine_sandy_loam_\n",
       "                  ...            \n",
       "179      Watseka_loamy_fine_sand_\n",
       "180      Watseka_loamy_fine_sand_\n",
       "181      Watseka_loamy_fine_sand_\n",
       "182      Watseka_loamy_fine_sand_\n",
       "183      Watseka_loamy_fine_sand_\n",
       "184      Watseka_loamy_fine_sand_\n",
       "185      Watseka_loamy_fine_sand_\n",
       "186      Watseka_loamy_fine_sand_\n",
       "187      Watseka_loamy_fine_sand_\n",
       "188      Watseka_loamy_fine_sand_\n",
       "189      Watseka_loamy_fine_sand_\n",
       "190      Watseka_loamy_fine_sand_\n",
       "191      Watseka_loamy_fine_sand_\n",
       "192      Watseka_loamy_fine_sand_\n",
       "193      Watseka_loamy_fine_sand_\n",
       "194      Watseka_loamy_fine_sand_\n",
       "195      Watseka_loamy_fine_sand_\n",
       "196      Watseka_loamy_fine_sand_\n",
       "197      Watseka_loamy_fine_sand_\n",
       "198      Watseka_loamy_fine_sand_\n",
       "199      Watseka_loamy_fine_sand_\n",
       "200      Watseka_loamy_fine_sand_\n",
       "201      Watseka_loamy_fine_sand_\n",
       "202      Watseka_loamy_fine_sand_\n",
       "203      Watseka_loamy_fine_sand_\n",
       "204      Watseka_loamy_fine_sand_\n",
       "205      Watseka_loamy_fine_sand_\n",
       "206      Watseka_loamy_fine_sand_\n",
       "207      Watseka_loamy_fine_sand_\n",
       "208      Watseka_loamy_fine_sand_\n",
       "Name: USDA_soil_series, Length: 209, dtype: object"
      ]
     },
     "execution_count": 14,
     "metadata": {},
     "output_type": "execute_result"
    }
   ],
   "source": [
    "metadata['USDA_soil_series']"
   ]
  },
  {
   "cell_type": "code",
   "execution_count": 10,
   "metadata": {},
   "outputs": [
    {
     "data": {
      "text/plain": [
       "0                     Selma_loam\n",
       "1                     Selma_loam\n",
       "2                     Selma_loam\n",
       "3                     Selma_loam\n",
       "4                     Selma_loam\n",
       "5                     Selma_loam\n",
       "6                     Selma_loam\n",
       "7                     Selma_loam\n",
       "8                     Selma_loam\n",
       "9                     Selma_loam\n",
       "10                    Selma_loam\n",
       "11                    Selma_loam\n",
       "12                    Selma_loam\n",
       "13                    Selma_loam\n",
       "14                    Selma_loam\n",
       "15                    Selma_loam\n",
       "16                    Selma_loam\n",
       "17                    Selma_loam\n",
       "18                    Selma_loam\n",
       "19                    Selma_loam\n",
       "20     Hoopeston_fine_sandy_loam\n",
       "21     Hoopeston_fine_sandy_loam\n",
       "22     Hoopeston_fine_sandy_loam\n",
       "23     Hoopeston_fine_sandy_loam\n",
       "24     Hoopeston_fine_sandy_loam\n",
       "25     Hoopeston_fine_sandy_loam\n",
       "26     Hoopeston_fine_sandy_loam\n",
       "27     Hoopeston_fine_sandy_loam\n",
       "28     Hoopeston_fine_sandy_loam\n",
       "29     Hoopeston_fine_sandy_loam\n",
       "                 ...            \n",
       "192      Watseka_loamy_fine_sand\n",
       "193      Watseka_loamy_fine_sand\n",
       "194      Watseka_loamy_fine_sand\n",
       "195      Watseka_loamy_fine_sand\n",
       "196      Watseka_loamy_fine_sand\n",
       "197      Watseka_loamy_fine_sand\n",
       "198      Watseka_loamy_fine_sand\n",
       "199      Watseka_loamy_fine_sand\n",
       "200      Watseka_loamy_fine_sand\n",
       "201      Watseka_loamy_fine_sand\n",
       "202      Watseka_loamy_fine_sand\n",
       "203      Watseka_loamy_fine_sand\n",
       "204      Watseka_loamy_fine_sand\n",
       "205      Watseka_loamy_fine_sand\n",
       "206      Watseka_loamy_fine_sand\n",
       "207      Watseka_loamy_fine_sand\n",
       "208      Watseka_loamy_fine_sand\n",
       "209      Watseka_loamy_fine_sand\n",
       "210      Watseka_loamy_fine_sand\n",
       "211      Watseka_loamy_fine_sand\n",
       "212      Watseka_loamy_fine_sand\n",
       "213      Watseka_loamy_fine_sand\n",
       "214      Watseka_loamy_fine_sand\n",
       "215      Watseka_loamy_fine_sand\n",
       "216      Watseka_loamy_fine_sand\n",
       "217      Watseka_loamy_fine_sand\n",
       "218      Watseka_loamy_fine_sand\n",
       "219      Watseka_loamy_fine_sand\n",
       "220      Watseka_loamy_fine_sand\n",
       "221      Watseka_loamy_fine_sand\n",
       "Name: USDA_soil_series, Length: 222, dtype: object"
      ]
     },
     "execution_count": 10,
     "metadata": {},
     "output_type": "execute_result"
    }
   ],
   "source": []
  },
  {
   "cell_type": "code",
   "execution_count": null,
   "metadata": {},
   "outputs": [],
   "source": [
    "`"
   ]
  }
 ],
 "metadata": {
  "kernelspec": {
   "display_name": "Python 3",
   "language": "python",
   "name": "python3"
  },
  "language_info": {
   "codemirror_mode": {
    "name": "ipython",
    "version": 3
   },
   "file_extension": ".py",
   "mimetype": "text/x-python",
   "name": "python",
   "nbconvert_exporter": "python",
   "pygments_lexer": "ipython3",
   "version": "3.5.5"
  }
 },
 "nbformat": 4,
 "nbformat_minor": 2
}
