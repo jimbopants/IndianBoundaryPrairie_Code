{
 "cells": [
  {
   "cell_type": "code",
   "execution_count": 38,
   "metadata": {},
   "outputs": [
    {
     "data": {
      "image/png": "[encoded data removed]",
      "text/plain": [
       "<Figure size 600x100 with 1 Axes>"
      ]
     },
     "metadata": {},
     "output_type": "display_data"
    }
   ],
   "source": [
    "# Imports\n",
    "# Base\n",
    "import os as os\n",
    "# Packages\n",
    "import matplotlib\n",
    "import matplotlib.pyplot as plt\n",
    "import numpy as np\n",
    "import pandas as pd\n",
    "import seaborn as sns\n",
    "\n",
    "# Setup\n",
    "%matplotlib inline\n",
    "sns.set_style('ticks')\n",
    "colormap = sns.color_palette('RdYlBu', 6)\n",
    "sns.palplot(colormap)"
   ]
  },
  {
   "cell_type": "code",
   "execution_count": 25,
   "metadata": {},
   "outputs": [],
   "source": [
    "# Data\n",
    "N = 12\n",
    "Organic = (0,0,0,0,0,0,0,0,0,10,10,10)\n",
    "LeanClay = (60,100,40,0,60,0,0,0,0,30,0,10)\n",
    "SandySilt = (0,0,0,40,0,0,30,30,0,0,20,20)\n",
    "FatClay = (30,0,10,0,10,0,0,0,0,0,0,0)\n",
    "SLClay = (30,20,0,0,0,0,0,0,0,0,0,0)\n",
    "LeanClay2 = (0,0,60,30,0,0,90,90,0,0,0,0)\n",
    "PGSand = (0,0,10,0,0,0,0,0,0,40,90,50)\n",
    "FatClay2 = (0,0,0,50,0,0,0,0,0,0,0,0)\n",
    "SandySilt2 = (0,0,0,0,50,0,0,0,0,0,0,0)\n",
    "LeanClay3= (0,0,0,0,0,0,0,0,0,50,0,30)\n",
    "\n",
    "soil_profiles = [Organic, LeanClay, SandySilt, FatClay, SLClay, LeanClay2, PGSand, FatClay2, SandySilt2, LeanClay3]\n",
    "color_ind = [0, 1, 2, 3, 4, 1, 5, 3, 2, 1]"
   ]
  },
  {
   "cell_type": "code",
   "execution_count": 39,
   "metadata": {},
   "outputs": [
    {
     "ename": "ValueError",
     "evalue": "dictionary update sequence element #0 has length 6; 2 is required",
     "output_type": "error",
     "traceback": [
      "\u001b[0;31m---------------------------------------------------------------------------\u001b[0m",
      "\u001b[0;31mValueError\u001b[0m                                Traceback (most recent call last)",
      "\u001b[0;32m<ipython-input-39-1d2b56e4fd81>\u001b[0m in \u001b[0;36m<module>\u001b[0;34m()\u001b[0m\n\u001b[1;32m     12\u001b[0m \u001b[0max\u001b[0m\u001b[0;34m.\u001b[0m\u001b[0mset_ylabel\u001b[0m\u001b[0;34m(\u001b[0m\u001b[0;34m'Depth (cm)'\u001b[0m\u001b[0;34m,\u001b[0m\u001b[0msize\u001b[0m\u001b[0;34m=\u001b[0m\u001b[0;36m20\u001b[0m\u001b[0;34m)\u001b[0m\u001b[0;34m\u001b[0m\u001b[0m\n\u001b[1;32m     13\u001b[0m \u001b[0max\u001b[0m\u001b[0;34m.\u001b[0m\u001b[0mset_title\u001b[0m\u001b[0;34m(\u001b[0m\u001b[0;34m'Soil Boring Logs'\u001b[0m\u001b[0;34m,\u001b[0m\u001b[0msize\u001b[0m\u001b[0;34m=\u001b[0m\u001b[0;36m22\u001b[0m\u001b[0;34m)\u001b[0m\u001b[0;34m\u001b[0m\u001b[0m\n\u001b[0;32m---> 14\u001b[0;31m \u001b[0max\u001b[0m\u001b[0;34m.\u001b[0m\u001b[0mset_xticklabels\u001b[0m\u001b[0;34m(\u001b[0m\u001b[0mind\u001b[0m\u001b[0;34m,\u001b[0m \u001b[0;34m(\u001b[0m\u001b[0;34m'Well 1'\u001b[0m\u001b[0;34m,\u001b[0m \u001b[0;34m'Well 2'\u001b[0m\u001b[0;34m,\u001b[0m \u001b[0;34m'Well 3'\u001b[0m\u001b[0;34m,\u001b[0m \u001b[0;34m'Well 4'\u001b[0m\u001b[0;34m,\u001b[0m \u001b[0;34m'Well 5'\u001b[0m\u001b[0;34m,\u001b[0m \u001b[0;34m''\u001b[0m\u001b[0;34m,\u001b[0m \u001b[0;34m'Well 6'\u001b[0m\u001b[0;34m,\u001b[0m \u001b[0;34m'Well 10'\u001b[0m\u001b[0;34m,\u001b[0m \u001b[0;34m''\u001b[0m\u001b[0;34m,\u001b[0m \u001b[0;34m'Well 7'\u001b[0m\u001b[0;34m,\u001b[0m \u001b[0;34m'Well 8'\u001b[0m\u001b[0;34m,\u001b[0m \u001b[0;34m'Well 9'\u001b[0m\u001b[0;34m)\u001b[0m\u001b[0;34m)\u001b[0m\u001b[0;34m\u001b[0m\u001b[0m\n\u001b[0m\u001b[1;32m     15\u001b[0m \u001b[0mmatplotlib\u001b[0m\u001b[0;34m.\u001b[0m\u001b[0mrc\u001b[0m\u001b[0;34m(\u001b[0m\u001b[0;34m'ytick'\u001b[0m\u001b[0;34m,\u001b[0m \u001b[0mlabelsize\u001b[0m\u001b[0;34m=\u001b[0m\u001b[0;36m20\u001b[0m\u001b[0;34m)\u001b[0m\u001b[0;34m\u001b[0m\u001b[0m\n\u001b[1;32m     16\u001b[0m \u001b[0max\u001b[0m\u001b[0;34m.\u001b[0m\u001b[0mset_ylim\u001b[0m\u001b[0;34m(\u001b[0m\u001b[0;36m120\u001b[0m\u001b[0;34m,\u001b[0m\u001b[0;36m0\u001b[0m\u001b[0;34m)\u001b[0m\u001b[0;34m\u001b[0m\u001b[0m\n",
      "\u001b[0;32m~/anaconda3/envs/skbio_py3/lib/python3.5/site-packages/matplotlib/axes/_base.py\u001b[0m in \u001b[0;36mset_xticklabels\u001b[0;34m(self, labels, fontdict, minor, **kwargs)\u001b[0m\n\u001b[1;32m   3291\u001b[0m         \"\"\"\n\u001b[1;32m   3292\u001b[0m         \u001b[0;32mif\u001b[0m \u001b[0mfontdict\u001b[0m \u001b[0;32mis\u001b[0m \u001b[0;32mnot\u001b[0m \u001b[0;32mNone\u001b[0m\u001b[0;34m:\u001b[0m\u001b[0;34m\u001b[0m\u001b[0m\n\u001b[0;32m-> 3293\u001b[0;31m             \u001b[0mkwargs\u001b[0m\u001b[0;34m.\u001b[0m\u001b[0mupdate\u001b[0m\u001b[0;34m(\u001b[0m\u001b[0mfontdict\u001b[0m\u001b[0;34m)\u001b[0m\u001b[0;34m\u001b[0m\u001b[0m\n\u001b[0m\u001b[1;32m   3294\u001b[0m         ret = self.xaxis.set_ticklabels(labels,\n\u001b[1;32m   3295\u001b[0m                                         minor=minor, **kwargs)\n",
      "\u001b[0;31mValueError\u001b[0m: dictionary update sequence element #0 has length 6; 2 is required"
     ]
    },
    {
     "data": {
      "image/png": "[encoded data removed]",
      "text/plain": [
       "<Figure size 600x400 with 1 Axes>"
      ]
     },
     "metadata": {},
     "output_type": "display_data"
    }
   ],
   "source": [
    "ind = np.arange(N)    # the x locations for the groups\n",
    "bottoms = np.zeros(N)\n",
    "width = 0.5       # the width of the bars: can also be len(x) sequence\n",
    "\n",
    "\n",
    "f, ax = plt.subplots(figsize=(6,4))\n",
    "for i in range(10):\n",
    "    ax.bar(ind, soil_profiles[i], bottom=bottoms, edgecolor=\"black\", linewidth=1, \\\n",
    "           color=colormap[color_ind[i]])\n",
    "    bottoms = bottoms + soil_profiles[i]\n",
    "    \n",
    "\n",
    "ax.set_ylabel('Depth (cm)',size=20)\n",
    "ax.set_title('Soil Boring Logs',size=22)\n",
    "ax.set_xticklabels(ind, ('Well 1', 'Well 2', 'Well 3', 'Well 4', 'Well 5', '', 'Well 6', 'Well 10', '', 'Well 7', 'Well 8', 'Well 9'))\n",
    "matplotlib.rc('ytick', labelsize=20)\n",
    "ax.set_ylim(120,0)\n",
    "#ax.legend((p7[0], p2[0], p4[0], p3[0], p5[0], p1[0]), ('Poorly-Graded Soil', 'Lean Clay', 'Fat Clay', 'Sandy Silt', 'Sandy Lean Clay', 'Organic Soil'),loc='center left',bbox_to_anchor=(1, 0.5),prop={'size': 20})\n",
    "#fig = matplotlib.pyplot.gcf()\n",
    "#fig.set_size_inches(18.5, 10.5)\n",
    "\n",
    "plt.show()"
   ]
  },
  {
   "cell_type": "code",
   "execution_count": null,
   "metadata": {},
   "outputs": [],
   "source": [
    "    \n",
    "p1 = plt.bar(ind, Organic, width, color=colormap[0], )\n",
    "\n",
    "p2 = plt.bar(ind, LeanClay, width, bottom=Organic, \\\n",
    "             color=colormap[6], edgecolor=\"black\", linewidth=1)\n",
    "\n",
    "p3 = plt.bar(ind, SandySilt, width, bottom=np.array(LeanClay)+np.array(Organic),\\\n",
    "             color=colormap[3], edgecolor=\"black\", linewidth=1)\n",
    "\n",
    "p4 = plt.bar(ind, FatClay, width,\\\n",
    "             bottom=np.array(LeanClay)+np.array(Organic)+np.array(SandySilt), \\\n",
    "             color=colormap[4],edgecolor=\"black\",linewidth=1)\n",
    "\n",
    "p5 = plt.bar(ind, SLClay, width, bottom=np.array(LeanClay)+np.array(Organic)+np.array(SandySilt)+np.array(FatClay), color=colormap[2],edgecolor=\"black\",linewidth=1)\n",
    "\n",
    "p6 = plt.bar(ind, LeanClay2, width, bottom=np.array(LeanClay)+np.array(Organic)+np.array(SandySilt)+np.array(FatClay)+np.array(SLClay), color=colormap[7],edgecolor=\"black\",linewidth=1)\n",
    "\n",
    "p7 = plt.bar(ind, PGSand, width, bottom=np.array(LeanClay)+np.array(Organic)+np.array(SandySilt)+np.array(FatClay)+np.array(SLClay)+np.array(LeanClay2), color=colormap[9],edgecolor=\"black\",linewidth=1)\n",
    "\n",
    "p8 = plt.bar(ind, FatClay2, width, bottom=np.array(LeanClay)+np.array(Organic)+np.array(SandySilt)+np.array(FatClay)+np.array(SLClay)+np.array(LeanClay2)+np.array(PGSand), color=colormap[4],edgecolor=\"black\",linewidth=1)\n",
    "\n",
    "p9 = plt.bar(ind, SandySilt2, width, bottom=np.array(LeanClay)+np.array(Organic)+np.array(SandySilt)+np.array(FatClay)+np.array(SLClay)+np.array(LeanClay2)+np.array(PGSand)+np.array(FatClay2), color=colormap[3],edgecolor=\"black\",linewidth=1)\n",
    "\n",
    "p10 = plt.bar(ind, LeanClay3, width, bottom=np.array(LeanClay)+np.array(Organic)+np.array(SandySilt)+np.array(FatClay)+np.array(SLClay)+np.array(LeanClay2)+np.array(PGSand)+np.array(FatClay2)+np.array(SandySilt2), color=colormap[7],edgecolor=\"black\",linewidth=1)\n",
    "\n"
   ]
  },
  {
   "cell_type": "code",
   "execution_count": null,
   "metadata": {
    "collapsed": true
   },
   "outputs": [],
   "source": []
  }
 ],
 "metadata": {
  "kernelspec": {
   "display_name": "Python 3",
   "language": "python",
   "name": "python3"
  },
  "language_info": {
   "codemirror_mode": {
    "name": "ipython",
    "version": 3
   },
   "file_extension": ".py",
   "mimetype": "text/x-python",
   "name": "python",
   "nbconvert_exporter": "python",
   "pygments_lexer": "ipython3",
   "version": "3.5.5"
  }
 },
 "nbformat": 4,
 "nbformat_minor": 2
}
