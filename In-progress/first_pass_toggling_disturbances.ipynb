{
 "cells": [
  {
   "cell_type": "code",
   "execution_count": 16,
   "metadata": {},
   "outputs": [],
   "source": [
    "#JG 11/30/17\n",
    "# Looking for a rough idea of toggling frequency impact on diversity\n",
    "\n",
    "import numpy as np\n",
    "import matplotlib.pyplot as plt\n",
    "import seaborn as sns\n",
    "import pandas as pd\n",
    "import math\n",
    "%matplotlib inline"
   ]
  },
  {
   "cell_type": "code",
   "execution_count": 35,
   "metadata": {},
   "outputs": [],
   "source": [
    "toggle_data = pd.read_csv('../toggle_per.csv')\n"
   ]
  },
  {
   "cell_type": "code",
   "execution_count": 3,
   "metadata": {},
   "outputs": [
    {
     "data": {
      "text/plain": [
       "well                      object\n",
       "core                     float64\n",
       "section                  float64\n",
       "cum_depth_cm             float64\n",
       "bottom_elev_m            float64\n",
       "top_elev_m               float64\n",
       "toggle_period_seconds    float64\n",
       "dtype: object"
      ]
     },
     "execution_count": 3,
     "metadata": {},
     "output_type": "execute_result"
    }
   ],
   "source": [
    "toggle_data.dtypes"
   ]
  },
  {
   "cell_type": "code",
   "execution_count": 12,
   "metadata": {},
   "outputs": [
    {
     "data": {
      "text/plain": [
       "array([  1864718.18182 ,   1709325.      ,    932359.090909,\n",
       "          820476.      ,    759700.      ,    788919.230769,\n",
       "          640996.875   ,    640996.875   ,    569775.      ,\n",
       "          269893.421053,    269893.421053,    269893.421053,\n",
       "         1864718.18182 ,   1577838.46154 ,    759700.      ,\n",
       "          759700.      ,    820476.      ,   1206582.35294 ,\n",
       "          891821.73913 ,    683730.      ,    347659.322034,\n",
       "          359857.894737,    359857.894737,    359857.894737,\n",
       "         2564325.      ,   2564325.      ,    621654.545455,\n",
       "          641081.25    ,    641081.25    ,    661761.290323,\n",
       "          759800.      ,    759800.      ,   1139700.      ,\n",
       "         1282162.5     ,   1864963.63636 ,   1864963.63636 ,\n",
       "         1025640.      ,   1025640.      ,    621600.      ,\n",
       "          512820.      ,    512820.      ,    477041.860465,\n",
       "          707337.931034,    707337.931034,    891860.869565,\n",
       "         1709400.      ,   1709400.      ,   1709400.      ,\n",
       "          539905.263158,    359936.842105,    320568.75    ,\n",
       "          526061.538462,    373025.454545,   1139800.      ,\n",
       "         1282275.      ,   1206847.05882 ,   1282275.      ,\n",
       "         2051640.      ,    759866.666667,    759866.666667,\n",
       "          641109.375   ,    373009.090909,    466261.363636,\n",
       "         1025775.      ,    707431.034483,    789057.692308,\n",
       "          854812.5     ,    854812.5     ,    661790.322581,\n",
       "         1025775.      ,   1206794.11765 ,   1206794.11765 ,\n",
       "         1368300.      ,   1026225.      ,   1578807.69231 ,\n",
       "         1865863.63636 ,   1282781.25    ,   1368300.      ,\n",
       "         4104900.      ,   4104900.      ,  10262250.      ,\n",
       "          892369.565217,    120732.352941,    120732.352941,\n",
       "         1368300.      ,   2932071.42857 ,   1140250.      ,\n",
       "         1080236.84211 ,   1026225.      ,    820980.      ,\n",
       "         2280500.      ,   1140250.      ,   2280500.      ,\n",
       "          621954.545455,    621954.545455,    621954.545455,\n",
       "                    nan,   1080189.47368 ,    789369.230769,\n",
       "         1578738.46154 ,    855150.      ,   1026180.      ,\n",
       "         2931942.85714 ,   6841200.      ,   6841200.      ,\n",
       "         4104720.      ,    789369.230769,    789369.230769,\n",
       "          789334.615385,    446145.652174,    662022.580645,\n",
       "          540071.052632,    892291.304348,   1207217.64706 ,\n",
       "          732953.571429,   1140150.      ,    570075.      ,\n",
       "          855112.5     ,   1026135.      ,   1026135.      ])"
      ]
     },
     "execution_count": 12,
     "metadata": {},
     "output_type": "execute_result"
    }
   ],
   "source": [
    "toggle_data['toggle_period_seconds'].values\n",
    "#plt.hist(toggle_data['toggle_period_seconds'].values)"
   ]
  },
  {
   "cell_type": "code",
   "execution_count": 30,
   "metadata": {},
   "outputs": [],
   "source": [
    "new_data = toggle_data['toggle_period_seconds'].values\n",
    "new_data = [value for value in new_data if not math.isnan(value)]\n",
    "new_data = [value/86400 for value in new_data]"
   ]
  },
  {
   "cell_type": "code",
   "execution_count": 34,
   "metadata": {},
   "outputs": [
    {
     "data": {
      "text/plain": [
       "Text(0,0.5,'# Samples')"
      ]
     },
     "execution_count": 34,
     "metadata": {},
     "output_type": "execute_result"
    },
    {
     "data": {
      "image/png": "[encoded data removed]",
      "text/plain": [
       "<matplotlib.figure.Figure at 0x1a15d44860>"
      ]
     },
     "metadata": {},
     "output_type": "display_data"
    }
   ],
   "source": [
    "# This is sort of interesting, the average time between cycling is lognormal. Most samples have wetting/drying at a mean time of ~10 days but some are huge outliers.\n",
    "f,ax = plt.subplots()\n",
    "ax.hist(new_data, bins=np.logspace(np.log10(min(new_data)), np.log10(max(new_data)), 20))\n",
    "ax.set_xscale(\"log\")\n",
    "ax.set_title('Mean Time Between Flooding/Drying')\n",
    "ax.set_xlabel('Time in Days')\n",
    "ax.set_ylabel('# Samples')"
   ]
  },
  {
   "cell_type": "code",
   "execution_count": 26,
   "metadata": {},
   "outputs": [
    {
     "data": {
      "text/plain": [
       "array([   120732.352941  ,    197789.64240212,    324028.66082362,\n",
       "          530839.59180072,    869647.36855961,   1424698.83053968,\n",
       "         2334011.26838688,   3823691.35439901,   6264158.09200896,\n",
       "        10262249.99999999])"
      ]
     },
     "execution_count": 26,
     "metadata": {},
     "output_type": "execute_result"
    }
   ],
   "source": [
    "# cool, its lognormal, does it have any predictive power whatsoever?"
   ]
  },
  {
   "cell_type": "code",
   "execution_count": 25,
   "metadata": {},
   "outputs": [
    {
     "data": {
      "text/plain": [
       "120732.352941"
      ]
     },
     "execution_count": 25,
     "metadata": {},
     "output_type": "execute_result"
    }
   ],
   "source": [
    "min(new_data)"
   ]
  },
  {
   "cell_type": "code",
   "execution_count": null,
   "metadata": {},
   "outputs": [],
   "source": []
  }
 ],
 "metadata": {
  "kernelspec": {
   "display_name": "Python 3",
   "language": "python",
   "name": "python3"
  },
  "language_info": {
   "codemirror_mode": {
    "name": "ipython",
    "version": 3
   },
   "file_extension": ".py",
   "mimetype": "text/x-python",
   "name": "python",
   "nbconvert_exporter": "python",
   "pygments_lexer": "ipython3",
   "version": "3.5.5"
  }
 },
 "nbformat": 4,
 "nbformat_minor": 2
}
