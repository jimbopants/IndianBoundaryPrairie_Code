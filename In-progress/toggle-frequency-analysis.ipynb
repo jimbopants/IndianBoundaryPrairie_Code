{
 "cells": [
  {
   "cell_type": "markdown",
   "metadata": {},
   "source": [
    "# Initial Toggling Analysis"
   ]
  },
  {
   "cell_type": "code",
   "execution_count": null,
   "metadata": {},
   "outputs": [],
   "source": [
    "# Importing data\n",
    "# what to do? Compare toggling frequency vs. AD and togglefreq vs distance to water table during sampling?\n",
    "toggle_data = pd.read_csv('../toggle_per.csv')\n",
    "new_data = toggle_data['toggle_period_seconds'].values\n",
    "new_data = [value for value in new_data if not math.isnan(value)]\n",
    "new_data = [value/86400 for value in new_data]\n",
    "\n",
    "\n",
    "# Add a simplified name column to the toggle data\n",
    "name_col = []\n",
    "for i,row in toggle_data.iterrows():\n",
    "    #print(str(row['section'].split('.')[0])\n",
    "    new_index = row['well'][2:] + '.D' +str(row['section'])[:-2]\n",
    "    name_col.append(new_index)\n",
    "toggle_data['name'] = name_col\n",
    "toggle_data['time/days'] = toggle_data['toggle_period_seconds']/86400\n",
    "\n",
    "# Now we can plot vs toggle period.\n",
    "# plot 1. toggle vs. distance to groundwater. aka does this capture something?\n",
    "map_df.columns\n",
    "\n",
    "# Let's make a quick comparison dataset:\n",
    "toggle_vals = []\n",
    "WT_dist_vals = []\n",
    "for i,row in toggle_data.iterrows():\n",
    "    #print(row['name'])\n",
    "    WT_dist = map_df[map_df['#SampleID'].str.contains(row['name'])]['Dist_Ext_WT'].values[0]\n",
    "    if not math.isnan(WT_dist):\n",
    "        toggle_vals.append(row['time/days'])\n",
    "        WT_dist_vals.append(WT_dist)\n",
    "        \n",
    "        # Checking to see whether this is correlated with distance to the water table. It's not. I'm not actully sure if this captures anything but I will at least try with the AD data.\n",
    "plt.scatter(WT_dist_vals, toggle_vals)\n",
    "\n",
    "# Plotting AD vs. characteristic wetting/drying time\n",
    "toggle_values_AD = []\n",
    "chao_values = []\n",
    "\n",
    "# group\n",
    "for i in average_chao1.items():\n",
    "    # Ignore no sensor data:\n",
    "    if i[0].split('.')[0] != 'W11':\n",
    "        # Ignore super low diversity samples:\n",
    "        if i[1] > 200:\n",
    "            name = i[0].rsplit('.', 1)[0]\n",
    "            if name in toggle_data['name'].values:\n",
    "                toggle = toggle_data[toggle_data['name'] == name]['time/days'].values[0]\n",
    "                if not np.isnan(toggle):\n",
    "                    chao_values.append(i[1])\n",
    "                    toggle_values_AD.append(toggle_data[toggle_data['name'] == name]['time/days'].values[0])\n",
    "\n",
    "f,ax= plt.subplots()\n",
    "ax.scatter(toggle_values_AD, chao_values)\n",
    "stats.pearsonr(toggle_values_AD, chao_values)"
   ]
  }
 ],
 "metadata": {
  "kernelspec": {
   "display_name": "Python 3",
   "language": "python",
   "name": "python3"
  },
  "language_info": {
   "codemirror_mode": {
    "name": "ipython",
    "version": 3
   },
   "file_extension": ".py",
   "mimetype": "text/x-python",
   "name": "python",
   "nbconvert_exporter": "python",
   "pygments_lexer": "ipython3",
   "version": "3.5.5"
  }
 },
 "nbformat": 4,
 "nbformat_minor": 2
}
