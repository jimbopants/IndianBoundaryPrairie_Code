{
 "cells": [
  {
   "cell_type": "code",
   "execution_count": 1,
   "metadata": {},
   "outputs": [],
   "source": [
    "#2/13/18 This takes the read files from idemp and puts them into a DADA2 friendly format. \n",
    "import glob\n",
    "import os"
   ]
  },
  {
   "cell_type": "code",
   "execution_count": 27,
   "metadata": {},
   "outputs": [
    {
     "name": "stdout",
     "output_type": "stream",
     "text": [
      "242\n"
     ]
    }
   ],
   "source": [
    "fileslist = glob.glob('/Users/jimbo/Desktop/IBP_raw_reads/demultiplexed/*')\n",
    "fl_short = []\n",
    "for i in fileslist:\n",
    "    if i[-2:] == 'gz':\n",
    "        fl_short.append(i)\n",
    "print(len(fl_short))"
   ]
  },
  {
   "cell_type": "code",
   "execution_count": 28,
   "metadata": {},
   "outputs": [],
   "source": [
    "fwd = []\n",
    "rev = []\n",
    "for i in fl_short:\n",
    "    name = i.rsplit('/',1)\n",
    "    pieces = name[1].split('_')\n",
    "    if name[1].startswith('forward'):\n",
    "        if 'unsigned' not in pieces[1]:\n",
    "            os.rename(i, '{0}/F_{1}'.format(name[0], pieces[1]))\n",
    "\n",
    "    elif name[1].startswith('reverse'):\n",
    "        if 'unsigned' not in pieces[1]:\n",
    "            os.rename(i, '{0}/R_{1}'.format(name[0], pieces[1]))"
   ]
  }
 ],
 "metadata": {
  "kernelspec": {
   "display_name": "Python 3",
   "language": "python",
   "name": "python3"
  },
  "language_info": {
   "codemirror_mode": {
    "name": "ipython",
    "version": 3
   },
   "file_extension": ".py",
   "mimetype": "text/x-python",
   "name": "python",
   "nbconvert_exporter": "python",
   "pygments_lexer": "ipython3",
   "version": "3.5.5"
  }
 },
 "nbformat": 4,
 "nbformat_minor": 2
}
